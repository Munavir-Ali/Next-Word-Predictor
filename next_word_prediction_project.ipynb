{
 "cells": [
  {
   "cell_type": "markdown",
   "id": "50dc6055-bb11-42bd-aa67-8994487b1df8",
   "metadata": {},
   "source": [
    "# **Next Word Prediction**\n",
    "FACEIN Internship Project"
   ]
  },
  {
   "cell_type": "markdown",
   "id": "3ad75a81-809f-41b9-bb10-a1de7b840410",
   "metadata": {},
   "source": [
    "## **Import Libraries**"
   ]
  },
  {
   "cell_type": "code",
   "execution_count": 1,
   "id": "84c4975b-86ed-4b83-8fe5-35963e685e1e",
   "metadata": {},
   "outputs": [],
   "source": [
    "import tensorflow as tf\n",
    "from tensorflow.keras.preprocessing.text import Tokenizer\n",
    "from tensorflow.keras.preprocessing.sequence import pad_sequences\n",
    "from tensorflow.keras.models import Sequential\n",
    "from tensorflow.keras.layers import Embedding, LSTM, Dense\n",
    "import numpy as np"
   ]
  },
  {
   "cell_type": "markdown",
   "id": "371b9ee9",
   "metadata": {},
   "source": [
    "# **Dataset Preprocessing**"
   ]
  },
  {
   "cell_type": "code",
   "execution_count": 2,
   "id": "99055715-4f46-41e5-a77a-5043fc12c728",
   "metadata": {},
   "outputs": [],
   "source": [
    "with open('alllines.txt', 'r',encoding='utf-8') as file:\n",
    "    text = file.read().lower()"
   ]
  },
  {
   "cell_type": "code",
   "execution_count": 3,
   "id": "19ad679e-cfab-43da-a11f-c4a8914b2e7c",
   "metadata": {},
   "outputs": [
    {
     "name": "stdout",
     "output_type": "stream",
     "text": [
      "Vocabulary size: 25576\n"
     ]
    }
   ],
   "source": [
    "tokenizer = Tokenizer()\n",
    "tokenizer.fit_on_texts([text])\n",
    "total_words = len(tokenizer.word_index) + 1\n",
    "\n",
    "print(\"Vocabulary size:\", total_words)"
   ]
  },
  {
   "cell_type": "markdown",
   "id": "41742965",
   "metadata": {},
   "source": [
    "Saving the tokens"
   ]
  },
  {
   "cell_type": "code",
   "execution_count": 4,
   "id": "8312e25c",
   "metadata": {},
   "outputs": [],
   "source": [
    "import pickle\n",
    "\n",
    "with open(\"next_word_prediction_tokens0.pkl\", \"wb\") as f:\n",
    "    pickle.dump(tokenizer, f)"
   ]
  },
  {
   "cell_type": "code",
   "execution_count": 5,
   "id": "350f7b68-3114-42d0-9ef7-00d8cbb12257",
   "metadata": {},
   "outputs": [
    {
     "name": "stdout",
     "output_type": "stream",
     "text": [
      "X shape: (50000, 55)\n",
      "y shape: (50000,)\n",
      "Example input (as word index): [  0   0   0   0   0   0   0   0   0   0   0   0   0   0   0   0   0   0\n",
      "   0   0   0   0   0   0   0   0   0   0   0   0   0   0   0   0   0   0\n",
      "   0   0   0   0   0   0   0   0   0   0   0   0   0   0   0   0   0   0\n",
      " 315]\n",
      "Example output (as word index): 3\n"
     ]
    }
   ],
   "source": [
    "X = []  #inputs\n",
    "y = []  #outputs\n",
    "\n",
    "for l in text.split('\\n'):\n",
    "    token_list = tokenizer.texts_to_sequences([l])[0]\n",
    "    for i in range(1, len(token_list)):\n",
    "        X.append(token_list[:i])\n",
    "        y.append(token_list[i])\n",
    "\n",
    "X = X[:50000]\n",
    "y = y[:50000]\n",
    "\n",
    "#max_sequence_length = 40\n",
    "#X = pad_sequences(X, maxlen=max_sequence_length, padding='pre')\n",
    "\n",
    "X = pad_sequences(X, padding='pre')\n",
    "y = np.array(y)\n",
    "\n",
    "\n",
    "print(\"X shape:\", X.shape)\n",
    "print(\"y shape:\", y.shape)\n",
    "print(\"Example input (as word index):\", X[0])\n",
    "print(\"Example output (as word index):\", y[0])"
   ]
  },
  {
   "cell_type": "markdown",
   "id": "69c6930c-579b-471a-86ac-5f36f4fa162a",
   "metadata": {},
   "source": [
    "## **Building & Training Model**"
   ]
  },
  {
   "cell_type": "markdown",
   "id": "cc7095ac",
   "metadata": {},
   "source": [
    "### **LSTM Model**"
   ]
  },
  {
   "cell_type": "markdown",
   "id": "da308f47",
   "metadata": {},
   "source": [
    "model = Sequential([\n",
    "    Embedding(input_dim=total_words, output_dim=32), #input_length=1 latest versions might not require this field\n",
    "    LSTM(100),\n",
    "    Dense(total_words, activation='softmax')\n",
    "    ])\n",
    "\n",
    "model.compile(\n",
    "    loss='sparse_categorical_crossentropy',\n",
    "    optimizer='adam',\n",
    "    metrics=['accuracy']\n",
    "    )\n",
    "\n",
    "model.summary()"
   ]
  },
  {
   "cell_type": "markdown",
   "id": "373f1e1e",
   "metadata": {},
   "source": [
    "### **Model Training**"
   ]
  },
  {
   "cell_type": "code",
   "execution_count": 6,
   "id": "e7c4dfb5-819a-465c-9e5e-81c0cf28b2ca",
   "metadata": {},
   "outputs": [
    {
     "name": "stderr",
     "output_type": "stream",
     "text": [
      "WARNING:absl:Compiled the loaded model, but the compiled metrics have yet to be built. `model.compile_metrics` will be empty until you train or evaluate the model.\n"
     ]
    },
    {
     "data": {
      "text/html": [
       "<pre style=\"white-space:pre;overflow-x:auto;line-height:normal;font-family:Menlo,'DejaVu Sans Mono',consolas,'Courier New',monospace\"><span style=\"font-weight: bold\">Model: \"sequential\"</span>\n",
       "</pre>\n"
      ],
      "text/plain": [
       "\u001b[1mModel: \"sequential\"\u001b[0m\n"
      ]
     },
     "metadata": {},
     "output_type": "display_data"
    },
    {
     "data": {
      "text/html": [
       "<pre style=\"white-space:pre;overflow-x:auto;line-height:normal;font-family:Menlo,'DejaVu Sans Mono',consolas,'Courier New',monospace\">┏━━━━━━━━━━━━━━━━━━━━━━━━━━━━━━━━━┳━━━━━━━━━━━━━━━━━━━━━━━━┳━━━━━━━━━━━━━━━┓\n",
       "┃<span style=\"font-weight: bold\"> Layer (type)                    </span>┃<span style=\"font-weight: bold\"> Output Shape           </span>┃<span style=\"font-weight: bold\">       Param # </span>┃\n",
       "┡━━━━━━━━━━━━━━━━━━━━━━━━━━━━━━━━━╇━━━━━━━━━━━━━━━━━━━━━━━━╇━━━━━━━━━━━━━━━┩\n",
       "│ embedding (<span style=\"color: #0087ff; text-decoration-color: #0087ff\">Embedding</span>)           │ (<span style=\"color: #00d7ff; text-decoration-color: #00d7ff\">None</span>, <span style=\"color: #00af00; text-decoration-color: #00af00\">55</span>, <span style=\"color: #00af00; text-decoration-color: #00af00\">32</span>)         │       <span style=\"color: #00af00; text-decoration-color: #00af00\">818,432</span> │\n",
       "├─────────────────────────────────┼────────────────────────┼───────────────┤\n",
       "│ lstm (<span style=\"color: #0087ff; text-decoration-color: #0087ff\">LSTM</span>)                     │ (<span style=\"color: #00d7ff; text-decoration-color: #00d7ff\">None</span>, <span style=\"color: #00af00; text-decoration-color: #00af00\">100</span>)            │        <span style=\"color: #00af00; text-decoration-color: #00af00\">53,200</span> │\n",
       "├─────────────────────────────────┼────────────────────────┼───────────────┤\n",
       "│ dense (<span style=\"color: #0087ff; text-decoration-color: #0087ff\">Dense</span>)                   │ (<span style=\"color: #00d7ff; text-decoration-color: #00d7ff\">None</span>, <span style=\"color: #00af00; text-decoration-color: #00af00\">25576</span>)          │     <span style=\"color: #00af00; text-decoration-color: #00af00\">2,583,176</span> │\n",
       "└─────────────────────────────────┴────────────────────────┴───────────────┘\n",
       "</pre>\n"
      ],
      "text/plain": [
       "┏━━━━━━━━━━━━━━━━━━━━━━━━━━━━━━━━━┳━━━━━━━━━━━━━━━━━━━━━━━━┳━━━━━━━━━━━━━━━┓\n",
       "┃\u001b[1m \u001b[0m\u001b[1mLayer (type)                   \u001b[0m\u001b[1m \u001b[0m┃\u001b[1m \u001b[0m\u001b[1mOutput Shape          \u001b[0m\u001b[1m \u001b[0m┃\u001b[1m \u001b[0m\u001b[1m      Param #\u001b[0m\u001b[1m \u001b[0m┃\n",
       "┡━━━━━━━━━━━━━━━━━━━━━━━━━━━━━━━━━╇━━━━━━━━━━━━━━━━━━━━━━━━╇━━━━━━━━━━━━━━━┩\n",
       "│ embedding (\u001b[38;5;33mEmbedding\u001b[0m)           │ (\u001b[38;5;45mNone\u001b[0m, \u001b[38;5;34m55\u001b[0m, \u001b[38;5;34m32\u001b[0m)         │       \u001b[38;5;34m818,432\u001b[0m │\n",
       "├─────────────────────────────────┼────────────────────────┼───────────────┤\n",
       "│ lstm (\u001b[38;5;33mLSTM\u001b[0m)                     │ (\u001b[38;5;45mNone\u001b[0m, \u001b[38;5;34m100\u001b[0m)            │        \u001b[38;5;34m53,200\u001b[0m │\n",
       "├─────────────────────────────────┼────────────────────────┼───────────────┤\n",
       "│ dense (\u001b[38;5;33mDense\u001b[0m)                   │ (\u001b[38;5;45mNone\u001b[0m, \u001b[38;5;34m25576\u001b[0m)          │     \u001b[38;5;34m2,583,176\u001b[0m │\n",
       "└─────────────────────────────────┴────────────────────────┴───────────────┘\n"
      ]
     },
     "metadata": {},
     "output_type": "display_data"
    },
    {
     "data": {
      "text/html": [
       "<pre style=\"white-space:pre;overflow-x:auto;line-height:normal;font-family:Menlo,'DejaVu Sans Mono',consolas,'Courier New',monospace\"><span style=\"font-weight: bold\"> Total params: </span><span style=\"color: #00af00; text-decoration-color: #00af00\">3,454,810</span> (13.18 MB)\n",
       "</pre>\n"
      ],
      "text/plain": [
       "\u001b[1m Total params: \u001b[0m\u001b[38;5;34m3,454,810\u001b[0m (13.18 MB)\n"
      ]
     },
     "metadata": {},
     "output_type": "display_data"
    },
    {
     "data": {
      "text/html": [
       "<pre style=\"white-space:pre;overflow-x:auto;line-height:normal;font-family:Menlo,'DejaVu Sans Mono',consolas,'Courier New',monospace\"><span style=\"font-weight: bold\"> Trainable params: </span><span style=\"color: #00af00; text-decoration-color: #00af00\">3,454,808</span> (13.18 MB)\n",
       "</pre>\n"
      ],
      "text/plain": [
       "\u001b[1m Trainable params: \u001b[0m\u001b[38;5;34m3,454,808\u001b[0m (13.18 MB)\n"
      ]
     },
     "metadata": {},
     "output_type": "display_data"
    },
    {
     "data": {
      "text/html": [
       "<pre style=\"white-space:pre;overflow-x:auto;line-height:normal;font-family:Menlo,'DejaVu Sans Mono',consolas,'Courier New',monospace\"><span style=\"font-weight: bold\"> Non-trainable params: </span><span style=\"color: #00af00; text-decoration-color: #00af00\">0</span> (0.00 B)\n",
       "</pre>\n"
      ],
      "text/plain": [
       "\u001b[1m Non-trainable params: \u001b[0m\u001b[38;5;34m0\u001b[0m (0.00 B)\n"
      ]
     },
     "metadata": {},
     "output_type": "display_data"
    },
    {
     "data": {
      "text/html": [
       "<pre style=\"white-space:pre;overflow-x:auto;line-height:normal;font-family:Menlo,'DejaVu Sans Mono',consolas,'Courier New',monospace\"><span style=\"font-weight: bold\"> Optimizer params: </span><span style=\"color: #00af00; text-decoration-color: #00af00\">2</span> (12.00 B)\n",
       "</pre>\n"
      ],
      "text/plain": [
       "\u001b[1m Optimizer params: \u001b[0m\u001b[38;5;34m2\u001b[0m (12.00 B)\n"
      ]
     },
     "metadata": {},
     "output_type": "display_data"
    }
   ],
   "source": [
    "from tensorflow.keras.models import load_model\n",
    "model = load_model('next_word_prediction_model_0.h5')\n",
    "model.summary()"
   ]
  },
  {
   "cell_type": "code",
   "execution_count": 7,
   "id": "35d895f4-7bba-407a-8fc9-993847c73b11",
   "metadata": {},
   "outputs": [],
   "source": [
    "model.compile(optimizer='adam',\n",
    "              loss='sparse_categorical_crossentropy',\n",
    "              metrics=['accuracy'])"
   ]
  },
  {
   "cell_type": "code",
   "execution_count": null,
   "id": "dcef3659-eff4-4355-9918-17515cbd9632",
   "metadata": {},
   "outputs": [],
   "source": [
    "from keras.callbacks import EarlyStopping\n",
    "\n",
    "early_stop = EarlyStopping(monitor='val_loss', patience=2, restore_best_weights=True)\n",
    "model.fit(X, y, epochs=10, batch_size=1024, validation_split=0.2, callbacks=[early_stop])"
   ]
  },
  {
   "cell_type": "code",
   "execution_count": 12,
   "id": "86afd429-e606-4876-ac97-514587fde4ac",
   "metadata": {},
   "outputs": [
    {
     "name": "stdout",
     "output_type": "stream",
     "text": [
      "\u001b[1m1563/1563\u001b[0m \u001b[32m━━━━━━━━━━━━━━━━━━━━\u001b[0m\u001b[37m\u001b[0m \u001b[1m25s\u001b[0m 16ms/step - accuracy: 0.8342 - loss: 0.6553\n",
      "Test Accuracy: 0.8309\n"
     ]
    }
   ],
   "source": [
    "loss, accuracy = model.evaluate(X, y)\n",
    "print(f\"Test Accuracy: {accuracy:.4f}\")"
   ]
  },
  {
   "cell_type": "code",
   "execution_count": 13,
   "id": "5d4baca5-36ef-42e7-927c-37395f94ff7c",
   "metadata": {},
   "outputs": [
    {
     "name": "stdout",
     "output_type": "stream",
     "text": [
      "Test Accuracy: 83.09%\n"
     ]
    }
   ],
   "source": [
    "print(f\"Test Accuracy: {accuracy * 100:.2f}%\")"
   ]
  },
  {
   "cell_type": "markdown",
   "id": "2d41d2a0",
   "metadata": {},
   "source": [
    "Saving the model"
   ]
  },
  {
   "cell_type": "code",
   "execution_count": null,
   "id": "c77a70b3-dea1-44cc-a116-4097961a7dee",
   "metadata": {},
   "outputs": [],
   "source": [
    "model.save('next_word_prediction_model_0.h5')"
   ]
  },
  {
   "cell_type": "markdown",
   "id": "2df63ed5-a101-4ca0-976f-9db1f578913f",
   "metadata": {},
   "source": [
    "## **Model Testing**"
   ]
  },
  {
   "cell_type": "code",
   "execution_count": null,
   "id": "0c6372ea-ef52-476b-9d9a-8986659745cb",
   "metadata": {},
   "outputs": [
    {
     "name": "stdout",
     "output_type": "stream",
     "text": [
      "Current sequence: \n"
     ]
    }
   ],
   "source": [
    "def interactive_predict(model, tokenizer, max_sequence_length):\n",
    "    sequence = []\n",
    "    index_word = {v: k for k, v in tokenizer.word_index.items()}\n",
    "\n",
    "    while True:\n",
    "        print(\"Current sequence:\", \" \".join(sequence))\n",
    "        input_word = input(\"Enter next word (or '.' to finish): \").lower()\n",
    "        if input_word == '.':\n",
    "            break\n",
    "\n",
    "        sequence.append(input_word)\n",
    "\n",
    "        token_list = tokenizer.texts_to_sequences([sequence])[0]\n",
    "        if not token_list:\n",
    "            print(\"Unknown word. Try something else.\")\n",
    "            sequence.pop()\n",
    "            continue\n",
    "\n",
    "        padded_sequence = pad_sequences([token_list], maxlen=max_sequence_length, padding='pre')\n",
    "        predicted_probs = model.predict(padded_sequence, verbose=0)[0]\n",
    "        predicted_indices = np.argsort(predicted_probs)[-5:][::-1]\n",
    "\n",
    "        predicted_words = [index_word.get(index, '?') for index in predicted_indices]\n",
    "\n",
    "        print(\"Predicted next words:\", predicted_words)\n",
    "        print(\"-\" * 20)\n",
    "\n",
    "    print(\"Final sequence:\", \" \".join(sequence), '.')\n",
    "\n",
    "interactive_predict(model, tokenizer, max_sequence_length=55)\n"
   ]
  },
  {
   "cell_type": "markdown",
   "id": "7626086a-a013-4ad7-9d56-b7b1cf570bd3",
   "metadata": {},
   "source": [
    "## **Application**"
   ]
  },
  {
   "cell_type": "code",
   "execution_count": 1,
   "id": "f6981ebf-4f8d-44c1-bf2c-bfca78bcf0f6",
   "metadata": {},
   "outputs": [
    {
     "name": "stdout",
     "output_type": "stream",
     "text": [
      "Overwriting next_word_app.py\n"
     ]
    }
   ],
   "source": [
    "%%writefile next_word_app.py\n",
    "import streamlit as st\n",
    "import numpy as np\n",
    "from keras.preprocessing.sequence import pad_sequences\n",
    "import pickle\n",
    "from tensorflow.keras.models import load_model\n",
    "\n",
    "st.markdown(\n",
    "    \"\"\"\n",
    "    <style>\n",
    "    .stApp {\n",
    "        background-image: url(\"https://img.pikbest.com/wp/202405/nodes-1-3d-render-of-connected-by-lines-on-a-black-background_9857780.jpg!sw800\");\n",
    "        background-size: cover;\n",
    "        background-repeat: no-repeat;\n",
    "        background-attachment: fixed;\n",
    "    }\n",
    "    </style>\n",
    "    \"\"\",\n",
    "    unsafe_allow_html=True\n",
    ")\n",
    "\n",
    "#st.markdown(\"<h1 style='color:blue;'>Next Word Predictor (LSTM)</h1>\", unsafe_allow_html=True)\n",
    "#st.markdown(\"<p style='color:green;'>Enter a sequence of words, and the model will predict the next word.</p>\", unsafe_allow_html=True)\n",
    "\n",
    "st.title(\"Next Word Predictor (LSTM)\")\n",
    "st.write(\"Enter a sequence of words, and the model will predict the next word.\")\n",
    "\n",
    "#Load tokenizer and model\n",
    "with open('next_word_prediction_tokens0.pkl', 'rb') as f:\n",
    "    tokenizer = pickle.load(f)\n",
    "\n",
    "model = load_model('next_word_prediction_model_0.h5')\n",
    "max_sequence_length = 55\n",
    "top_k = 5\n",
    "\n",
    "\n",
    "#Initialize session state\n",
    "if 'sequence' not in st.session_state:\n",
    "    st.session_state.sequence = []\n",
    "\n",
    "if 'done' not in st.session_state:\n",
    "    st.session_state.done = False\n",
    "\n",
    "if 'last_input' not in st.session_state:\n",
    "    st.session_state.last_input = \"\"\n",
    "\n",
    "\n",
    "def get_next_word_suggestions(current_sequence):\n",
    "    token_list = tokenizer.texts_to_sequences([current_sequence])[0]\n",
    "    if not token_list:\n",
    "        return []\n",
    "\n",
    "    token_list = pad_sequences([token_list], maxlen=max_sequence_length, padding='pre')\n",
    "    predicted_probs = model.predict(token_list, verbose=0)[0]\n",
    "    predicted_indices = np.argsort(predicted_probs)[-top_k:][::-1]\n",
    "\n",
    "    index_word = tokenizer.index_word\n",
    "    predicted_words = [index_word.get(i, \"?\") for i in predicted_indices]\n",
    "\n",
    "    return predicted_words\n",
    "\n",
    "#Interactive Loop\n",
    "if not st.session_state.done:\n",
    "    current_text = \" \".join(st.session_state.sequence)\n",
    "    input_text = st.text_input(\"Type your sentence here\", value=current_text)\n",
    "\n",
    "    # Detect new word without requiring enter after each word\n",
    "    if input_text != st.session_state.last_input:\n",
    "        words = input_text.strip().split()\n",
    "\n",
    "        #fullstop or new word entry\n",
    "        if len(words) > len(st.session_state.sequence):\n",
    "            new_word = words[-1]\n",
    "\n",
    "            if new_word == \".\":\n",
    "                st.session_state.done = True\n",
    "            else:\n",
    "                st.session_state.sequence.append(new_word)\n",
    "\n",
    "            st.session_state.last_input = input_text\n",
    "            st.rerun()\n",
    "\n",
    "        # Handle case when user deletes or rewrites sentence\n",
    "        elif len(words) < len(st.session_state.sequence):\n",
    "            st.session_state.sequence = words\n",
    "            st.session_state.last_input = input_text\n",
    "            st.rerun()\n",
    "\n",
    "        else:\n",
    "            st.session_state.last_input = input_text\n",
    "\n",
    "    #clickable suggestions\n",
    "    suggestions = get_next_word_suggestions(input_text)\n",
    "    if suggestions:\n",
    "        st.write(\"### Suggestions:\")\n",
    "        cols = st.columns(top_k)\n",
    "        for i in range(top_k):\n",
    "            if cols[i].button(suggestions[i]):\n",
    "                st.session_state.sequence.append(suggestions[i])\n",
    "                st.session_state.last_input = \" \".join(st.session_state.sequence)\n",
    "                st.rerun()\n",
    "\n",
    "#Final Display of Entered Sentence\n",
    "else:\n",
    "    full_sentence = \" \".join(st.session_state.sequence) + \".\"\n",
    "    st.success(\"Final Sentence:\")\n",
    "    st.write(f\"`{full_sentence}`\")\n",
    "\n",
    "    if st.button(\"Reset\"):\n",
    "        st.session_state.sequence = []\n",
    "        st.session_state.done = False\n",
    "        st.session_state.last_input = \"\"\n",
    "        st.rerun()"
   ]
  },
  {
   "cell_type": "code",
   "execution_count": 2,
   "id": "189a8190-c7ea-48ab-b690-22de6f468c16",
   "metadata": {},
   "outputs": [
    {
     "name": "stdout",
     "output_type": "stream",
     "text": [
      "^C\n"
     ]
    }
   ],
   "source": [
    "! streamlit run next_word_app.py"
   ]
  },
  {
   "cell_type": "code",
   "execution_count": null,
   "id": "cde161c8",
   "metadata": {},
   "outputs": [],
   "source": []
  }
 ],
 "metadata": {
  "kernelspec": {
   "display_name": "Python 3",
   "language": "python",
   "name": "python3"
  },
  "language_info": {
   "codemirror_mode": {
    "name": "ipython",
    "version": 3
   },
   "file_extension": ".py",
   "mimetype": "text/x-python",
   "name": "python",
   "nbconvert_exporter": "python",
   "pygments_lexer": "ipython3",
   "version": "3.10.5"
  },
  "widgets": {
   "application/vnd.jupyter.widget-state+json": {
    "state": {},
    "version_major": 2,
    "version_minor": 0
   }
  }
 },
 "nbformat": 4,
 "nbformat_minor": 5
}
